{
 "cells": [
  {
   "cell_type": "markdown",
   "id": "7b97733d",
   "metadata": {},
   "source": [
    "## <center> ✏️Scatterplot</center>"
   ]
  },
  {
   "cell_type": "code",
   "execution_count": 5,
   "id": "256e8445",
   "metadata": {},
   "outputs": [],
   "source": [
    "from sklearn.datasets import load_iris\n",
    "import matplotlib.pyplot as plt\n",
    "import seaborn as sns\n",
    "import pandas as pd"
   ]
  },
  {
   "cell_type": "code",
   "execution_count": 6,
   "id": "cf09d9cc",
   "metadata": {},
   "outputs": [],
   "source": [
    "iris = load_iris()\n",
    "df = pd.DataFrame(data=iris.data, columns=iris.feature_names)"
   ]
  },
  {
   "cell_type": "code",
   "execution_count": 8,
   "id": "af027d16",
   "metadata": {},
   "outputs": [],
   "source": [
    "df['Target']= iris.target"
   ]
  },
  {
   "cell_type": "code",
   "execution_count": 9,
   "id": "2b438880",
   "metadata": {},
   "outputs": [
    {
     "data": {
      "text/html": [
       "<div>\n",
       "<style scoped>\n",
       "    .dataframe tbody tr th:only-of-type {\n",
       "        vertical-align: middle;\n",
       "    }\n",
       "\n",
       "    .dataframe tbody tr th {\n",
       "        vertical-align: top;\n",
       "    }\n",
       "\n",
       "    .dataframe thead th {\n",
       "        text-align: right;\n",
       "    }\n",
       "</style>\n",
       "<table border=\"1\" class=\"dataframe\">\n",
       "  <thead>\n",
       "    <tr style=\"text-align: right;\">\n",
       "      <th></th>\n",
       "      <th>sepal length (cm)</th>\n",
       "      <th>sepal width (cm)</th>\n",
       "      <th>petal length (cm)</th>\n",
       "      <th>petal width (cm)</th>\n",
       "      <th>Target</th>\n",
       "    </tr>\n",
       "  </thead>\n",
       "  <tbody>\n",
       "    <tr>\n",
       "      <th>0</th>\n",
       "      <td>5.1</td>\n",
       "      <td>3.5</td>\n",
       "      <td>1.4</td>\n",
       "      <td>0.2</td>\n",
       "      <td>0</td>\n",
       "    </tr>\n",
       "    <tr>\n",
       "      <th>1</th>\n",
       "      <td>4.9</td>\n",
       "      <td>3.0</td>\n",
       "      <td>1.4</td>\n",
       "      <td>0.2</td>\n",
       "      <td>0</td>\n",
       "    </tr>\n",
       "    <tr>\n",
       "      <th>2</th>\n",
       "      <td>4.7</td>\n",
       "      <td>3.2</td>\n",
       "      <td>1.3</td>\n",
       "      <td>0.2</td>\n",
       "      <td>0</td>\n",
       "    </tr>\n",
       "    <tr>\n",
       "      <th>3</th>\n",
       "      <td>4.6</td>\n",
       "      <td>3.1</td>\n",
       "      <td>1.5</td>\n",
       "      <td>0.2</td>\n",
       "      <td>0</td>\n",
       "    </tr>\n",
       "    <tr>\n",
       "      <th>4</th>\n",
       "      <td>5.0</td>\n",
       "      <td>3.6</td>\n",
       "      <td>1.4</td>\n",
       "      <td>0.2</td>\n",
       "      <td>0</td>\n",
       "    </tr>\n",
       "    <tr>\n",
       "      <th>...</th>\n",
       "      <td>...</td>\n",
       "      <td>...</td>\n",
       "      <td>...</td>\n",
       "      <td>...</td>\n",
       "      <td>...</td>\n",
       "    </tr>\n",
       "    <tr>\n",
       "      <th>145</th>\n",
       "      <td>6.7</td>\n",
       "      <td>3.0</td>\n",
       "      <td>5.2</td>\n",
       "      <td>2.3</td>\n",
       "      <td>2</td>\n",
       "    </tr>\n",
       "    <tr>\n",
       "      <th>146</th>\n",
       "      <td>6.3</td>\n",
       "      <td>2.5</td>\n",
       "      <td>5.0</td>\n",
       "      <td>1.9</td>\n",
       "      <td>2</td>\n",
       "    </tr>\n",
       "    <tr>\n",
       "      <th>147</th>\n",
       "      <td>6.5</td>\n",
       "      <td>3.0</td>\n",
       "      <td>5.2</td>\n",
       "      <td>2.0</td>\n",
       "      <td>2</td>\n",
       "    </tr>\n",
       "    <tr>\n",
       "      <th>148</th>\n",
       "      <td>6.2</td>\n",
       "      <td>3.4</td>\n",
       "      <td>5.4</td>\n",
       "      <td>2.3</td>\n",
       "      <td>2</td>\n",
       "    </tr>\n",
       "    <tr>\n",
       "      <th>149</th>\n",
       "      <td>5.9</td>\n",
       "      <td>3.0</td>\n",
       "      <td>5.1</td>\n",
       "      <td>1.8</td>\n",
       "      <td>2</td>\n",
       "    </tr>\n",
       "  </tbody>\n",
       "</table>\n",
       "<p>150 rows × 5 columns</p>\n",
       "</div>"
      ],
      "text/plain": [
       "     sepal length (cm)  sepal width (cm)  petal length (cm)  petal width (cm)  \\\n",
       "0                  5.1               3.5                1.4               0.2   \n",
       "1                  4.9               3.0                1.4               0.2   \n",
       "2                  4.7               3.2                1.3               0.2   \n",
       "3                  4.6               3.1                1.5               0.2   \n",
       "4                  5.0               3.6                1.4               0.2   \n",
       "..                 ...               ...                ...               ...   \n",
       "145                6.7               3.0                5.2               2.3   \n",
       "146                6.3               2.5                5.0               1.9   \n",
       "147                6.5               3.0                5.2               2.0   \n",
       "148                6.2               3.4                5.4               2.3   \n",
       "149                5.9               3.0                5.1               1.8   \n",
       "\n",
       "     Target  \n",
       "0         0  \n",
       "1         0  \n",
       "2         0  \n",
       "3         0  \n",
       "4         0  \n",
       "..      ...  \n",
       "145       2  \n",
       "146       2  \n",
       "147       2  \n",
       "148       2  \n",
       "149       2  \n",
       "\n",
       "[150 rows x 5 columns]"
      ]
     },
     "execution_count": 9,
     "metadata": {},
     "output_type": "execute_result"
    }
   ],
   "source": [
    "df"
   ]
  },
  {
   "cell_type": "markdown",
   "id": "a90664c0",
   "metadata": {},
   "source": [
    "#### ✏️ What is Scatterplot ?"
   ]
  },
  {
   "cell_type": "markdown",
   "id": "546f42ef",
   "metadata": {},
   "source": [
    "* A scatter plot (Chambers 1983) reveals relationships or association between two variables. The relationship between two variables is called correlation. A scatter plot usually consists of a large body of data. The closer the data points come when plotted to making a straight line, the higher the correlation between the two variables, or the stronger the relationship. If the data points make a straight line going from the origin out to high x- and y-values, then the variables are said to have a positive correlation. If the line goes from a high-value on the y-axis down to a high-value on the x-axis, the variables have a negative correlation."
   ]
  },
  {
   "cell_type": "markdown",
   "id": "c8bb5fdc",
   "metadata": {},
   "source": [
    "#### ✏️ When to use scatter plot?"
   ]
  },
  {
   "cell_type": "markdown",
   "id": "07a781d6",
   "metadata": {},
   "source": [
    "* A scatter chart works best when comparing large numbers of data points without regard to time. This is a very powerful type of chart and good when your are trying to show the relationship between two variables (x and y axis)\n",
    "* For example: Plotting a scatter plot of Male Height in Cm & Female Height in Cm"
   ]
  },
  {
   "cell_type": "markdown",
   "id": "01561335",
   "metadata": {},
   "source": [
    "#### ✏️ Types of Corelation"
   ]
  },
  {
   "cell_type": "markdown",
   "id": "c49fb8af",
   "metadata": {},
   "source": [
    "* There are generally three types of correlation to look for:\n",
    "\n",
    "* Positive - This is when the variables move in the same direction. As one variable increases so does the other. Height and shoe size as an example are positively correlated. \n",
    "* Negative - This is when the variables move in opposite directions. As one variable increases, the other decreases. Time spent studying and time spent on playing games as an example are negatively correlated. \n",
    "* No correlation - There is when there is no apparent relationship between the variables. Video game scores and yearly salary as an example will appear to have no correlation; as one increases, the other has no effect."
   ]
  },
  {
   "cell_type": "markdown",
   "id": "40fa116c",
   "metadata": {},
   "source": [
    "![Alt Text](https://www.simplypsychology.org/wp-content/uploads/correlation.jpg)"
   ]
  },
  {
   "cell_type": "markdown",
   "id": "6be17a97",
   "metadata": {},
   "source": [
    "#### ✏️ Common issues when using scatter plots"
   ]
  },
  {
   "cell_type": "markdown",
   "id": "f73fbfb9",
   "metadata": {},
   "source": [
    "* Overplotting :\n",
    "    When we have lots of data points to plot, this can run into the issue of overplotting. Overplotting is the case where data points overlap to a degree where we have difficulty seeing relationships between points and variables. It can be difficult to tell how densely-packed data points are when many of them are in a small area."
   ]
  },
  {
   "cell_type": "markdown",
   "id": "aa471d92",
   "metadata": {},
   "source": [
    "* Solution:\n",
    "  There are a few common ways to alleviate this issue. One alternative is to sample only a subset of data points: a random selection of points should still give the general idea of the patterns in the full data. We can also change the form of the dots, adding transparency to allow for overlaps to be visible, or reducing point size so that fewer overlaps occur. As a third option, we might even choose a different chart type like the heatmap, where color indicates the number of points in each bin. Heatmaps in this use case are also known as 2-d histograms."
   ]
  },
  {
   "cell_type": "markdown",
   "id": "914f4524",
   "metadata": {},
   "source": [
    "* Interpreting correlation as causation\n",
    "    This is not so much an issue with creating a scatter plot as it is an issue with its interpretation. Simply because we observe a relationship between two variables in a scatter plot, it does not mean that changes in one variable are responsible for changes in the other. This gives rise to the common phrase in statistics that correlation does not imply causation. It is possible that the observed relationship is driven by some third variable that affects both of the plotted variables, that the causal link is reversed, or that the pattern is simply coincidental"
   ]
  },
  {
   "cell_type": "markdown",
   "id": "227a2add",
   "metadata": {},
   "source": [
    "#### ✏️Applications of Scatter Plot"
   ]
  },
  {
   "cell_type": "markdown",
   "id": "d681a9e0",
   "metadata": {},
   "source": [
    "* Analysis of a scatter plot helps us understand the following aspects of the data.\n",
    "\n",
    "* The different levels of correlation among the data points are useful to understand the relationship within the data. A line of best fit can be drawn for the given data and used to further predict new data values. The data points lying outside the given set of data can be easily identified to find the outliers. The grouping of data points in a scatter plot can be identified as different clusters within the data."
   ]
  },
  {
   "cell_type": "code",
   "execution_count": 14,
   "id": "07904533",
   "metadata": {},
   "outputs": [
    {
     "data": {
      "text/plain": [
       "Text(0, 0.5, 'Sepal Width')"
      ]
     },
     "execution_count": 14,
     "metadata": {},
     "output_type": "execute_result"
    },
    {
     "data": {
      "image/png": "[encoded data removed]",
      "text/plain": [
       "<Figure size 432x288 with 1 Axes>"
      ]
     },
     "metadata": {
      "needs_background": "light"
     },
     "output_type": "display_data"
    }
   ],
   "source": [
    "plt.scatter(df['sepal length (cm)'],df['sepal width (cm)'])\n",
    "plt.xlabel('Sepal Length')\n",
    "plt.ylabel('Sepal Width')"
   ]
  },
  {
   "cell_type": "code",
   "execution_count": 13,
   "id": "36d63add",
   "metadata": {},
   "outputs": [
    {
     "data": {
      "text/plain": [
       "<AxesSubplot:xlabel='sepal length (cm)', ylabel='petal length (cm)'>"
      ]
     },
     "execution_count": 13,
     "metadata": {},
     "output_type": "execute_result"
    },
    {
     "data": {
      "image/png": "[encoded data removed]",
      "text/plain": [
       "<Figure size 432x288 with 1 Axes>"
      ]
     },
     "metadata": {
      "needs_background": "light"
     },
     "output_type": "display_data"
    }
   ],
   "source": [
    "sns.scatterplot(x=df['sepal length (cm)'],y=df['petal length (cm)'])"
   ]
  },
  {
   "cell_type": "markdown",
   "id": "85ed8893",
   "metadata": {},
   "source": [
    "#### ✏️Interview questions related to Pair Plot"
   ]
  },
  {
   "cell_type": "markdown",
   "id": "145e01ee",
   "metadata": {},
   "source": [
    " #### <span style ='color:blue'> Q. What is a scatter plot? For what type of data is scatter plot usually used for?</span>"
   ]
  },
  {
   "cell_type": "markdown",
   "id": "a628efc0",
   "metadata": {},
   "source": [
    "\n",
    "A scatter plot is a chart used to plot a correlation between two or more variables at the same time. It’s usually used for numeric data."
   ]
  },
  {
   "cell_type": "markdown",
   "id": "5cb11c53",
   "metadata": {},
   "source": [
    "#### <span style='color:blue'>Q. What features might be visible in scatterplots?</span>"
   ]
  },
  {
   "cell_type": "markdown",
   "id": "dce80a5a",
   "metadata": {},
   "source": [
    "Correlation: the two variables might have a relationship, for example, one might depend on another. But this is not the same as causation. Associations: the variables may be associated with one another. Outliers: there could be cases where the data in two dimensions does not follow the general pattern. Clusters: sometimes there could be groups of data that form a cluster on the plot. Gaps: some combinations of values might not exist in a particular case. Barriers: boundaries. Conditional relationships: some relationship between the variables rely on a condition to be met."
   ]
  },
  {
   "cell_type": "markdown",
   "id": "dd43e864",
   "metadata": {},
   "source": [
    "#### <span style= 'color:blue'>Q. What type of plot would you use if you need to demonstrate “relationship” between variables/parameters? </span>"
   ]
  },
  {
   "cell_type": "markdown",
   "id": "0a0f96df",
   "metadata": {},
   "source": [
    "When we are trying to show the relationship between 2 variables, scatter plots or charts are used. When we are trying to show “relationship” between three variables, bubble charts are used."
   ]
  },
  {
   "cell_type": "markdown",
   "id": "ce2dbc34",
   "metadata": {},
   "source": [
    "**END**"
   ]
  }
 ],
 "metadata": {
  "kernelspec": {
   "display_name": "Python 3 (ipykernel)",
   "language": "python",
   "name": "python3"
  },
  "language_info": {
   "codemirror_mode": {
    "name": "ipython",
    "version": 3
   },
   "file_extension": ".py",
   "mimetype": "text/x-python",
   "name": "python",
   "nbconvert_exporter": "python",
   "pygments_lexer": "ipython3",
   "version": "3.9.7"
  }
 },
 "nbformat": 4,
 "nbformat_minor": 5
}
